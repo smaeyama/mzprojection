{
 "cells": [
  {
   "cell_type": "markdown",
   "metadata": {},
   "source": [
    "***(i) Import the function from the module \"mzprojection\"***"
   ]
  },
  {
   "cell_type": "code",
   "execution_count": null,
   "metadata": {},
   "outputs": [],
   "source": [
    "import numpy as np\n",
    "import matplotlib.pyplot as plt\n",
    "import xarray as xr\n",
    "# from mzprojection import mzprojection_multivariate, split_long_time_series, calc_correlation\n",
    "from mzprojection import mzprojection_multivariate_long_time_series, calc_correlation_long_time_series, calc_residual_long_time_series\n",
    "\n",
    "# help(mzprojection_multivariate_long_time_series)"
   ]
  },
  {
   "cell_type": "markdown",
   "metadata": {},
   "source": [
    "***(ii) Prepare a long-time-series data***  \n",
    "Here, instead of an ensemble set of short-time-series data, we use a long time-series data by assuming ergodicity."
   ]
  },
  {
   "cell_type": "code",
   "execution_count": null,
   "metadata": {},
   "outputs": [],
   "source": [
    "#= Read sample data =\n",
    "ds = xr.open_dataset('../sample_data/sample_multivariate_L96xy.nc')\n",
    "t_raw    = np.array(ds.t)      # Time t\n",
    "u_raw    = np.array(ds.u).T    # Variable of interest u(t)\n",
    "dudt_raw = np.array(ds.dudt).T # = du/dt\n",
    "f_raw    = np.array(ds.f).T    # Analyzed data f(t)\n",
    "print(\"t_raw[:].shape=\",t_raw.shape)\n",
    "print(\"u_raw[:,nu].shape=\",u_raw.shape)\n",
    "print(\"f_raw[:,nf].shape=\",f_raw.shape,\"# nu/=nf is available.\")\n",
    "\n",
    "fig = plt.figure(figsize=(14,2.5))\n",
    "ax = fig.add_subplot(111)\n",
    "ax.plot(t_raw,f_raw[:,0],label=\"f(t)\")\n",
    "ax.plot(t_raw,u_raw[:,0],label=\"u(t)\")\n",
    "ax.set_xlim(0,None)\n",
    "ax.set_xlabel(\"Time t\")\n",
    "ax.set_ylabel(\"Long time-series u(t), f(t)\")\n",
    "plt.legend()\n",
    "plt.show()"
   ]
  },
  {
   "cell_type": "markdown",
   "metadata": {},
   "source": [
    "***(iii) Apply the Moti-Zwanzig projection operator method***  \n",
    "The projection of $f(t)^i$ on $u(t)^i$ is calculated as,  \n",
    "    $f(t)=\\Omega u(t)+s(t)+r(t)$,  \n",
    "    $s(t)=-\\int_0^t \\Gamma(t) u(t-v)dv$.  \n",
    "The Markov coefficient $\\Omega$, the memory function $\\Gamma(t)$ and the uncorrelated term $r(t)$ are obtained as outputs.  \n",
    "(Some correlations, e.g., $\\langle r(t) u \\rangle$ are also obtained to check the result.)"
   ]
  },
  {
   "cell_type": "code",
   "execution_count": null,
   "metadata": {},
   "outputs": [],
   "source": [
    "delta_t = t_raw[1] - t_raw[0] # Time step size\n",
    "ista=1000    # Skip time steps in the beginning\n",
    "t=t_raw[ista:]\n",
    "u=u_raw[ista:,:]\n",
    "dudt=dudt_raw[ista:,:]\n",
    "f=f_raw[ista:,:]\n",
    "nperiod=400  # Length of time steps to evaluate the memory function\n",
    "# omega, memoryf, s, r = mzprojection_multivariate_long_time_series(delta_t, u, dudt, f, nperiod=nperiod, flag_terms=True, flag_debug=True)\n",
    "omega, memoryf = mzprojection_multivariate_long_time_series(delta_t, u, dudt, f, nperiod=nperiod, flag_terms=False, flag_debug=True)\n",
    "s_raw, r_raw = calc_residual_long_time_series(delta_t, u_raw, f_raw, omega, memoryf)\n",
    "s = s_raw[ista:,:]\n",
    "r = r_raw[ista:,:]\n",
    "t_cor = delta_t * np.arange(memoryf.shape[0])"
   ]
  },
  {
   "cell_type": "markdown",
   "metadata": {},
   "source": [
    "***(iv-a) Check results: plot $\\Omega$ and $\\Gamma(t)$***  "
   ]
  },
  {
   "cell_type": "code",
   "execution_count": null,
   "metadata": {},
   "outputs": [],
   "source": [
    "print(\"Markov coefficient matrix Omega = \", omega[0,0])\n",
    "\n",
    "fig = plt.figure()\n",
    "ax = fig.add_subplot(111)\n",
    "ax.set_xlabel(\"Correlation time t\")\n",
    "ax.set_ylabel(\"Memory function $\\Gamma(t)$\")\n",
    "ax.plot(t_cor,memoryf[:,0,0],label=\"$\\Gamma(t)$\")\n",
    "plt.legend()\n",
    "plt.show()"
   ]
  },
  {
   "cell_type": "markdown",
   "metadata": {},
   "source": [
    "***(iv-b) Check results: plot time evolution of $f(t)=\\Omega u(t)+s(t)+r(t)$***  "
   ]
  },
  {
   "cell_type": "code",
   "execution_count": null,
   "metadata": {},
   "outputs": [],
   "source": [
    "fig = plt.figure()\n",
    "ax = fig.add_subplot(111)\n",
    "ax.set_xlabel(r\"Time $t$\")\n",
    "ax.set_ylabel(r\"$f_i(t)=\\Omega_{ij}u_j(t)+s_i(t)+r_i(t)$\")\n",
    "tsta=30\n",
    "tend=34\n",
    "ax.plot(t,f[:,0],label=r\"$f_i(t)$\")\n",
    "ax.plot(t,np.dot(u[:,:],omega.T)[:,0],label=r\"$\\Omega_{ij}u_j(t)$\")\n",
    "ax.plot(t,s[:,0],label=r\"$s_i(t)$\")\n",
    "ax.plot(t,r[:,0],label=r\"$r_i(t)$\")\n",
    "ax.set_xlim(tsta,tend)\n",
    "plt.legend()\n",
    "plt.show()"
   ]
  },
  {
   "cell_type": "markdown",
   "metadata": {},
   "source": [
    "***(iv-c) Check results: Extended generalized fluctuation-dissipation theorem $\\Gamma(t) = \\langle r(t) du/dt \\rangle / \\langle u u \\rangle$***  "
   ]
  },
  {
   "cell_type": "code",
   "execution_count": null,
   "metadata": {},
   "outputs": [],
   "source": [
    "uu = calc_correlation_long_time_series(u,u,nperiod)\n",
    "ududt = calc_correlation_long_time_series(u,dudt,nperiod)\n",
    "ff = calc_correlation_long_time_series(f,f,nperiod)\n",
    "fdudt = calc_correlation_long_time_series(f,dudt,nperiod)\n",
    "fu = calc_correlation_long_time_series(f,u,nperiod)\n",
    "rr = calc_correlation_long_time_series(r,r,nperiod)\n",
    "rdudt = calc_correlation_long_time_series(r,dudt,nperiod)\n",
    "ru = calc_correlation_long_time_series(r,u,nperiod)\n",
    "uu0_inv = np.linalg.inv(uu[0,:,:])\n",
    "\n",
    "fig = plt.figure()\n",
    "ax = fig.add_subplot(111)\n",
    "ax.set_xlabel(\"Correlation time t\")\n",
    "ax.set_ylabel(r\"$\\Gamma_{ij}(t) = \\langle r_i(t) du/dt_k \\rangle \\langle u u \\rangle^{-1}_{k,j}$\")\n",
    "ax.plot(t_cor,memoryf[:,0,0],label=\"Re[$\\Gamma_{ij}(t)$]\")\n",
    "ax.plot(t_cor,np.dot(rdudt,uu0_inv)[:,0,0],\"--\",label=r\"Re[$\\langle r_i(t) du/dt_k \\rangle \\langle u u \\rangle^{-1}_{k,j}$]\",lw=3)\n",
    "plt.legend()\n",
    "plt.show()"
   ]
  },
  {
   "cell_type": "markdown",
   "metadata": {},
   "source": [
    "***(iv-d) Check results: $\\langle r(t) u \\rangle = 0$***  \n",
    "Namely, the uncorrelated term $r(t)$ indeed extracts the part of $f(t)$ uncorrelated with $u$. It is checked by $\\langle r(t) u \\rangle \\ll \\langle f(t) u \\rangle$."
   ]
  },
  {
   "cell_type": "code",
   "execution_count": null,
   "metadata": {},
   "outputs": [],
   "source": [
    "fig = plt.figure()\n",
    "ax = fig.add_subplot(111)\n",
    "ax.set_xlabel(\"Correlation time t\")\n",
    "ax.set_ylabel(\"Correlation$\")\n",
    "ax.plot(t_cor,ru[:,0,0],label=r\"$\\langle r_i(t) u_j \\rangle$\")\n",
    "ax.plot(t_cor,fu[:,0,0],label=r\"$\\langle f_i(t) u_j \\rangle$\")\n",
    "plt.legend()\n",
    "plt.show()"
   ]
  },
  {
   "cell_type": "code",
   "execution_count": null,
   "metadata": {},
   "outputs": [],
   "source": []
  }
 ],
 "metadata": {
  "kernelspec": {
   "display_name": "Python 3 (ipykernel)",
   "language": "python",
   "name": "python3"
  },
  "language_info": {
   "codemirror_mode": {
    "name": "ipython",
    "version": 3
   },
   "file_extension": ".py",
   "mimetype": "text/x-python",
   "name": "python",
   "nbconvert_exporter": "python",
   "pygments_lexer": "ipython3",
   "version": "3.7.11"
  }
 },
 "nbformat": 4,
 "nbformat_minor": 4
}
