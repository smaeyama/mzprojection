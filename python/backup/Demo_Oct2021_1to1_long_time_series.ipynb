{
 "cells": [
  {
   "cell_type": "markdown",
   "metadata": {},
   "source": [
    "***(i) Import the function from the module \"mzprojection\"***"
   ]
  },
  {
   "cell_type": "code",
   "execution_count": null,
   "metadata": {},
   "outputs": [],
   "source": [
    "import numpy as np\n",
    "import matplotlib.pyplot as plt\n",
    "# from mzprojection import mzprojection_multivariate, calc_correlation\n",
    "from mzprojection import mzprojection_multivariate_long_time_series, calc_correlation_long_time_series, calc_residual_long_time_series\n",
    "\n",
    "#help(mzprojection_multivariate_long_time_series)"
   ]
  },
  {
   "cell_type": "markdown",
   "metadata": {},
   "source": [
    "***(ii) Prepare a long-time-series data***  \n",
    "Here, instead of an ensemble set of short-time-series data, we use a long time-series data by assuming ergodicity."
   ]
  },
  {
   "cell_type": "code",
   "execution_count": null,
   "metadata": {},
   "outputs": [],
   "source": [
    "#= Read sample data =\n",
    "indata = np.loadtxt('../sample_data/sample_time_series.dat')\n",
    "t_raw     = indata[:,0]                     # Time t\n",
    "u_raw    = indata[:,1] + 1.0j * indata[:,2] # Variable of interest u(t)\n",
    "dudt_raw = indata[:,3] + 1.0j * indata[:,4] # = du/dt\n",
    "f_raw    = indata[:,5] + 1.0j * indata[:,6] # Analyzed data f(t)\n",
    "\n",
    "fig = plt.figure(figsize=(14,2.5))\n",
    "ax = fig.add_subplot(111)\n",
    "ax.set_xlim(0,1000)\n",
    "ax.set_xticks(np.arange(0,1001,100))\n",
    "ax.set_ylim(-0.1,0.1)\n",
    "ax.set_xlabel(\"Time t\")\n",
    "ax.set_ylabel(\"Long time-series u(t), f(t)\")\n",
    "ax.plot(t_raw,f_raw.real*10,label=\"Re[f(t)]x10\")\n",
    "ax.plot(t_raw,u_raw.real,label=\"Re[u(t)]\")\n",
    "plt.legend()\n",
    "plt.show()"
   ]
  },
  {
   "cell_type": "markdown",
   "metadata": {},
   "source": [
    "***(iii) Apply the Moti-Zwanzig projection operator method***  \n",
    "The projection of $f(t)^i$ on $u(t)^i$ is calculated as,  \n",
    "    $f(t)=\\Omega u(t)+s(t)+r(t)$,  \n",
    "    $s(t)=-\\int_0^t \\Gamma(t) u(t-v)dv$.  \n",
    "The Markov coefficient $\\Omega$, the memory function $\\Gamma(t)$ and the uncorrelated term $r(t)$ are obtained as outputs.  \n",
    "(Some correlations, e.g., $\\langle r(t) u \\rangle$ are also obtained to check the result.)"
   ]
  },
  {
   "cell_type": "code",
   "execution_count": null,
   "metadata": {},
   "outputs": [],
   "source": [
    "delta_t = t_raw[1] - t_raw[0] # Time step size\n",
    "ista=2000    # Skip time steps in the beginning\n",
    "t=t_raw[ista:]\n",
    "u=u_raw[ista:]\n",
    "dudt=dudt_raw[ista:]\n",
    "f=f_raw[ista:]\n",
    "nperiod=500  # Length of time steps to evaluate the memory function\n",
    "omega, memoryf, s, r = mzprojection_multivariate_long_time_series(delta_t, u, dudt, f, nperiod=nperiod, flag_terms=True, flag_debug=True)\n",
    "t_cor = delta_t * np.arange(memoryf.shape[0])\n",
    "\n",
    "### Reshape for single variable\n",
    "omega = omega.reshape(1)\n",
    "memoryf = memoryf.reshape(nperiod)\n",
    "              \n",
    "uu = calc_correlation_long_time_series(u,u,nperiod)[:,0,0]\n",
    "ududt = calc_correlation_long_time_series(u,dudt,nperiod)[:,0,0]\n",
    "ff = calc_correlation_long_time_series(f,f,nperiod)[:,0,0]\n",
    "fdudt = calc_correlation_long_time_series(f,dudt,nperiod)[:,0,0]\n",
    "fu = calc_correlation_long_time_series(f,u,nperiod)[:,0,0]\n",
    "rr = calc_correlation_long_time_series(r,r,nperiod)[:,0,0]\n",
    "rdudt = calc_correlation_long_time_series(r,dudt,nperiod)[:,0,0]\n",
    "ru = calc_correlation_long_time_series(r,u,nperiod)[:,0,0]\n",
    "t_cor = delta_t * np.arange(memoryf.shape[0])"
   ]
  },
  {
   "cell_type": "markdown",
   "metadata": {},
   "source": [
    "***(iv-a) Check results: plot $\\Omega$ and $\\Gamma(t)$***  "
   ]
  },
  {
   "cell_type": "code",
   "execution_count": null,
   "metadata": {},
   "outputs": [],
   "source": [
    "print(\"Markov coefficient Omega = \", omega)\n",
    "\n",
    "fig = plt.figure()\n",
    "ax = fig.add_subplot(111)\n",
    "ax.set_xlabel(\"Correlation time t\")\n",
    "ax.set_ylabel(\"Memory function $\\Gamma(t)$\")\n",
    "ax.plot(t_cor,memoryf.real,label=\"Re[$\\Gamma(t)$]\")\n",
    "ax.plot(t_cor,memoryf.imag,label=\"Im[$\\Gamma(t)$]\")\n",
    "plt.legend()\n",
    "plt.show()"
   ]
  },
  {
   "cell_type": "markdown",
   "metadata": {},
   "source": [
    "***(iv-b) Check results: plot time evolution of $f(t)=\\Omega u(t)+s(t)+r(t)$***  "
   ]
  },
  {
   "cell_type": "code",
   "execution_count": null,
   "metadata": {},
   "outputs": [],
   "source": [
    "fig = plt.figure()\n",
    "ax = fig.add_subplot(111)\n",
    "ax.set_xlabel(\"Time t\")\n",
    "ax.set_ylabel(\"$f(t)=\\Omega u(t)+s(t)+r(t)$\")\n",
    "tsta=400\n",
    "tend=450\n",
    "ax.plot(t,f.real,label=\"Re[f(t)]\")\n",
    "ax.plot(t,(omega*u).real,label=\"Re[$\\Omega$u(t)]\")\n",
    "ax.plot(t,s.real,label=\"Re[s(t)]\")\n",
    "ax.plot(t,r.real,label=\"Re[r(t)]\")\n",
    "ax.set_xlim(tsta,tend)\n",
    "plt.legend()\n",
    "plt.show()"
   ]
  },
  {
   "cell_type": "markdown",
   "metadata": {},
   "source": [
    "***(iv-c) Check results: Extended generalized fluctuation-dissipation theorem $\\Gamma(t) = \\langle r(t) du/dt \\rangle / \\langle u u \\rangle$***  "
   ]
  },
  {
   "cell_type": "code",
   "execution_count": null,
   "metadata": {},
   "outputs": [],
   "source": [
    "fig = plt.figure()\n",
    "ax = fig.add_subplot(111)\n",
    "ax.set_xlabel(\"Correlation time t\")\n",
    "ax.set_ylabel(r\"$\\Gamma(t) = \\langle r(t) du/dt \\rangle / \\langle u u \\rangle$\")\n",
    "ax.plot(t_cor,memoryf.real,label=\"Re[$\\Gamma(t)$]\")\n",
    "ax.plot(t_cor,memoryf.imag,label=\"Im[$\\Gamma(t)$]\")\n",
    "ax.plot(t_cor,(rdudt/uu[0]).real,label=r\"Re[$\\langle r(t) du/dt \\rangle / \\langle u u \\rangle$]\",dashes=[4,4],linewidth=4)\n",
    "ax.plot(t_cor,(rdudt/uu[0]).imag,label=r\"Im[$\\langle r(t) du/dt \\rangle / \\langle u u \\rangle$]\",dashes=[4,4],linewidth=4)\n",
    "plt.legend()\n",
    "plt.show()"
   ]
  },
  {
   "cell_type": "markdown",
   "metadata": {},
   "source": [
    "***(iv-d) Check results: $\\langle r(t) u \\rangle = 0$***  \n",
    "Namely, the uncorrelated term $r(t)$ indeed extracts the part of $f(t)$ uncorrelated with $u$. It is checked by $\\langle r(t) u \\rangle \\ll \\langle f(t) u \\rangle$."
   ]
  },
  {
   "cell_type": "code",
   "execution_count": null,
   "metadata": {},
   "outputs": [],
   "source": [
    "fig = plt.figure()\n",
    "ax = fig.add_subplot(111)\n",
    "ax.set_xlabel(\"Correlation time t\")\n",
    "ax.set_ylabel(\"Correlation$\")\n",
    "ax.plot(t_cor,ru.real,label=r\"Re[$\\langle r(t) u \\rangle$]\")\n",
    "ax.plot(t_cor,ru.imag,label=r\"Im[$\\langle r(t) u \\rangle$]\")\n",
    "ax.plot(t_cor,fu.real,label=r\"Re[$\\langle f(t) u \\rangle$]\")\n",
    "ax.plot(t_cor,fu.imag,label=r\"Im[$\\langle f(t) u \\rangle$]\")\n",
    "plt.legend()\n",
    "plt.show()"
   ]
  },
  {
   "cell_type": "markdown",
   "metadata": {},
   "source": [
    "***(v-a) Fitting the memory function $\\Gamma(t)$***\n",
    "$$\n",
    "\\Gamma(t) = \\frac{\\gamma}{\\tau} \\exp\\left(-\\frac{t}{\\tau}\\right)\n",
    "$$\n",
    "where $\\gamma, \\tau \\in \\mathbb{C}$."
   ]
  },
  {
   "cell_type": "code",
   "execution_count": null,
   "metadata": {},
   "outputs": [],
   "source": [
    "from mzprojection import memoryf_get_fitting_coef, memoryf_fitted\n",
    "tau, cl = memoryf_get_fitting_coef(delta_t,memoryf,order=0,t_range=int(len(memoryf)/2))\n",
    "gamma = cl[0]*tau\n",
    "print(\"gamma=\",gamma)\n",
    "print(\"tau=\",tau)\n",
    "\n",
    "t_cor = delta_t*np.arange(len(memoryf))\n",
    "\n",
    "fig = plt.figure()\n",
    "ax = fig.add_subplot(111)\n",
    "ax.set_xlabel(\"Correlation time t\")\n",
    "ax.set_ylabel(r\"$\\Gamma(t) = \\langle r(t) du/dt \\rangle / \\langle u u \\rangle$\")\n",
    "ax.axhline(0,color=\"k\",ls=\"dashed\")\n",
    "ax.plot(t_cor,memoryf.real,label=r\"Re[$\\Gamma(t)$]\")\n",
    "ax.plot(t_cor,memoryf.imag,label=r\"Im[$\\Gamma(t)$]\")\n",
    "ax.plot(t_cor,memoryf_fitted(tau,cl,t_cor).real,label=r\"Re[$\\gamma/\\tau*\\exp(-t/\\tau)$]\")\n",
    "ax.plot(t_cor,memoryf_fitted(tau,cl,t_cor).imag,label=r\"Im[$\\gamma/\\tau*\\exp(-t/\\tau)$]\")\n",
    "# ax.plot(t_cor,(gamma/tau*np.exp(-t_cor/tau)).real,label=r\"Re[$\\gamma/\\tau*\\exp(-t/\\tau)$]\")\n",
    "# ax.plot(t_cor,(gamma/tau*np.exp(-t_cor/tau)).imag,label=r\"Im[$\\gamma/\\tau*\\exp(-t/\\tau)$]\")\n",
    "plt.legend()\n",
    "plt.show()"
   ]
  },
  {
   "cell_type": "markdown",
   "metadata": {},
   "source": [
    "***(v-b) Fitting the uncorrelated term $\\langle r(t) r \\rangle$***\n",
    "$$\n",
    "\\langle r(t) r \\rangle = \\mathrm{Re} \\left[\\frac{\\sigma^2}{\\theta}\\right] \\exp\\left(-\\frac{t}{\\theta}\\right)\n",
    "$$\n",
    "where $\\sigma \\in \\mathbb{R}$ and $\\theta \\in \\mathbb{C}$."
   ]
  },
  {
   "cell_type": "code",
   "execution_count": null,
   "metadata": {},
   "outputs": [],
   "source": [
    "from mzprojection import rr_get_fitting_coef, rr_fitted\n",
    "theta, sigma = rr_get_fitting_coef(delta_t,rr,t_range=int(len(rr)/2))\n",
    "print(\"sigma=\",sigma)\n",
    "print(\"theta=\",theta)\n",
    "\n",
    "t_cor = delta_t*np.arange(len(rr))\n",
    "\n",
    "fig = plt.figure()\n",
    "ax = fig.add_subplot(111)\n",
    "ax.set_xlabel(\"Correlation time t\")\n",
    "ax.set_ylabel(r\"$\\Gamma(t) = \\langle r(t) du/dt \\rangle / \\langle u u \\rangle$\")\n",
    "ax.axhline(0,color=\"k\",ls=\"dashed\")\n",
    "ax.plot(t_cor,rr.real,label=r\"Re[$<r(t)r^*>$]\")\n",
    "ax.plot(t_cor,rr.imag,label=r\"Im[$<r(t)r^*>$]\")\n",
    "ax.plot(t_cor,rr_fitted(theta,sigma,t_cor).real,label=r\"Re[$\\sigma^2/\\theta*\\exp(-t/\\theta)$]\")\n",
    "ax.plot(t_cor,rr_fitted(theta,sigma,t_cor).imag,label=r\"Im[$\\sigma^2/\\theta*\\exp(-t/\\theta)$]\")\n",
    "# ax.plot(t_cor,((sigma**2/theta).real*np.exp(-t_cor/theta)).real,label=r\"Re[$\\sigma^2/\\theta*\\exp(-t/\\theta)$]\")\n",
    "# ax.plot(t_cor,((sigma**2/theta).real*np.exp(-t_cor/theta)).imag,label=r\"Im[$\\sigma^2/\\theta*\\exp(-t/\\theta)$]\")\n",
    "plt.legend()\n",
    "plt.show()"
   ]
  },
  {
   "cell_type": "code",
   "execution_count": null,
   "metadata": {},
   "outputs": [],
   "source": [
    "print(\"Omega=\",omega)\n",
    "print(\"gamma=\",gamma)\n",
    "print(\"  tau=\",tau)\n",
    "print(\"sigma=\",sigma)\n",
    "print(\"theta=\",theta)"
   ]
  },
  {
   "cell_type": "code",
   "execution_count": null,
   "metadata": {},
   "outputs": [],
   "source": []
  }
 ],
 "metadata": {
  "kernelspec": {
   "display_name": "Python 3 (ipykernel)",
   "language": "python",
   "name": "python3"
  },
  "language_info": {
   "codemirror_mode": {
    "name": "ipython",
    "version": 3
   },
   "file_extension": ".py",
   "mimetype": "text/x-python",
   "name": "python",
   "nbconvert_exporter": "python",
   "pygments_lexer": "ipython3",
   "version": "3.7.11"
  }
 },
 "nbformat": 4,
 "nbformat_minor": 4
}
